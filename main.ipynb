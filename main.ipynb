{
 "cells": [
  {
   "attachments": {},
   "cell_type": "markdown",
   "metadata": {},
   "source": [
    "# PROJET MACH_BDA_DATAVIZ"
   ]
  },
  {
   "cell_type": "code",
   "execution_count": 1,
   "metadata": {},
   "outputs": [],
   "source": [
    "import pandas as pd\n",
    "import matplotlib.pyplot as plt\n",
    "import seaborn as sns\n",
    "import numpy as np\n",
    "from pathlib import Path\n",
    "from datasets import load_dataset\n",
    "from sklearn.preprocessing import MinMaxScaler, LabelEncoder, OneHotEncoder\n",
    "from sklearn.compose import ColumnTransformer\n",
    "from sklearn.pipeline import Pipeline\n",
    "from sklearn.model_selection import train_test_split\n",
    "from sklearn.ensemble import RandomForestClassifier, GradientBoostingClassifier, AdaBoostClassifier\n",
    "from sklearn.linear_model import LogisticRegression\n",
    "from sklearn.svm import SVC\n",
    "from sklearn.neighbors import KNeighborsClassifier\n",
    "from sklearn.metrics import accuracy_score"
   ]
  },
  {
   "cell_type": "code",
   "execution_count": 2,
   "metadata": {},
   "outputs": [],
   "source": [
    "dataset = load_dataset(\"d0r1h/customer_churn\")\n",
    "\n",
    "df = pd.DataFrame(dataset['train'])\n",
    "\n",
    "df_reset = df # copie pour ne pas recharger tout le dataset"
   ]
  },
  {
   "cell_type": "code",
   "execution_count": 3,
   "metadata": {},
   "outputs": [],
   "source": [
    "def reset_dataframe():\n",
    "    return df_reset"
   ]
  },
  {
   "cell_type": "code",
   "execution_count": 4,
   "metadata": {},
   "outputs": [
    {
     "data": {
      "text/plain": [
       "age                                                   18\n",
       "gender                                                 F\n",
       "security_no                                      XW0DQ7H\n",
       "region_category                                  Village\n",
       "membership_category                  Platinum Membership\n",
       "joining_date                                  17-08-2017\n",
       "joined_through_referral                               No\n",
       "referral_id                                     xxxxxxxx\n",
       "preferred_offer_types              Gift Vouchers/Coupons\n",
       "medium_of_operation                                    ?\n",
       "internet_option                                    Wi-Fi\n",
       "last_visit_time                                 16:08:02\n",
       "days_since_last_login                                 17\n",
       "avg_time_spent                                    300.63\n",
       "avg_transaction_value                           53005.25\n",
       "avg_frequency_login_days                              17\n",
       "points_in_wallet                                  781.75\n",
       "used_special_discount                                Yes\n",
       "offer_application_preference                         Yes\n",
       "past_complaint                                        No\n",
       "complaint_status                          Not Applicable\n",
       "feedback                        Products always in Stock\n",
       "churn_risk_score                                       0\n",
       "Name: 0, dtype: object"
      ]
     },
     "execution_count": 4,
     "metadata": {},
     "output_type": "execute_result"
    }
   ],
   "source": [
    "df.iloc[0]"
   ]
  },
  {
   "attachments": {},
   "cell_type": "markdown",
   "metadata": {},
   "source": [
    "## Traitement des Données"
   ]
  },
  {
   "cell_type": "code",
   "execution_count": 5,
   "metadata": {},
   "outputs": [
    {
     "data": {
      "text/plain": [
       "age                                0\n",
       "gender                             0\n",
       "security_no                        0\n",
       "region_category                 5428\n",
       "membership_category                0\n",
       "joining_date                       0\n",
       "joined_through_referral            0\n",
       "referral_id                        0\n",
       "preferred_offer_types            288\n",
       "medium_of_operation                0\n",
       "internet_option                    0\n",
       "last_visit_time                    0\n",
       "days_since_last_login              0\n",
       "avg_time_spent                     0\n",
       "avg_transaction_value              0\n",
       "avg_frequency_login_days           0\n",
       "points_in_wallet                3443\n",
       "used_special_discount              0\n",
       "offer_application_preference       0\n",
       "past_complaint                     0\n",
       "complaint_status                   0\n",
       "feedback                           0\n",
       "churn_risk_score                   0\n",
       "dtype: int64"
      ]
     },
     "execution_count": 5,
     "metadata": {},
     "output_type": "execute_result"
    }
   ],
   "source": [
    "df.isnull().sum()"
   ]
  },
  {
   "cell_type": "code",
   "execution_count": 6,
   "metadata": {},
   "outputs": [],
   "source": [
    "def clean_dataframe(df):\n",
    "    df.dropna(inplace=True)\n",
    "    df.drop(columns=['security_no', 'referral_id'],inplace=True)\n",
    "    \n",
    "    df['medium_of_operation'] = df['medium_of_operation'].replace('?', 'Unknown')\n",
    "    \n",
    "    df = df[df['days_since_last_login'] > 0]\n",
    "    df = df[df['avg_time_spent'] > 0]\n",
    "    df = df[df['points_in_wallet'] > 0]\n",
    "    \n",
    "    df['joining_date'] = pd.to_datetime(df['joining_date'], format='%d-%m-%Y')\n",
    "    df['last_visit_time'] = pd.to_datetime(df['last_visit_time'], format='%H:%M:%S').dt.time\n",
    "\n",
    "    df['joining_year'] = df['joining_date'].dt.year\n",
    "    df['joining_month'] = df['joining_date'].dt.month\n",
    "    df['joining_day'] = df['joining_date'].dt.day\n",
    "\n",
    "    df['last_visit_hour'] = df['last_visit_time'].apply(lambda x: x.hour)\n",
    "    df['last_visit_minute'] = df['last_visit_time'].apply(lambda x: x.minute)\n",
    "\n",
    "    df.drop(columns=['joining_date', 'last_visit_time'], inplace=True)\n",
    "    \n",
    "    return df"
   ]
  },
  {
   "attachments": {},
   "cell_type": "markdown",
   "metadata": {},
   "source": [
    "Standardisation des données numériques (mettre toutes les valeurs entre 0 et 1, pas sûr s'il y a vraiment besoin):"
   ]
  },
  {
   "cell_type": "code",
   "execution_count": 7,
   "metadata": {},
   "outputs": [],
   "source": [
    "def normalize_numeric_columns(df):\n",
    "    numeric_columns = df.select_dtypes(include=['float64', 'int64']).columns\n",
    "    df[numeric_columns] = MinMaxScaler().fit_transform(df[numeric_columns])\n",
    "    return df"
   ]
  },
  {
   "attachments": {},
   "cell_type": "markdown",
   "metadata": {},
   "source": [
    "Encodage des données non numériques:"
   ]
  },
  {
   "cell_type": "code",
   "execution_count": 8,
   "metadata": {},
   "outputs": [],
   "source": [
    "def encode_columns(df, binary_columns):\n",
    "    non_numeric_columns = df.select_dtypes(include=['object']).columns\n",
    "    one_hot_encoder_cols = [col for col in non_numeric_columns if col not in binary_columns]\n",
    "\n",
    "    for col in binary_columns:\n",
    "        le = LabelEncoder()\n",
    "        df[col] = le.fit_transform(df[col])\n",
    "\n",
    "    ct = ColumnTransformer(transformers=[\n",
    "        ('onehot', OneHotEncoder(), one_hot_encoder_cols)\n",
    "    ], remainder='passthrough')\n",
    "\n",
    "    df_encoded = ct.fit_transform(df)\n",
    "    \n",
    "    onehot_feature_names = ct.named_transformers_['onehot'].get_feature_names_out(one_hot_encoder_cols)\n",
    "    all_feature_names = list(onehot_feature_names) + [col for col in df.columns if col not in one_hot_encoder_cols]\n",
    "    \n",
    "    encoded_df = pd.DataFrame(df_encoded, columns=all_feature_names)\n",
    "    \n",
    "    return encoded_df"
   ]
  },
  {
   "cell_type": "code",
   "execution_count": 9,
   "metadata": {},
   "outputs": [],
   "source": [
    "df = clean_dataframe(df)\n",
    "# encoded_df = encode_columns(df, binary_columns=['gender', 'joined_through_referral', 'used_special_discount', 'offer_application_preference', 'past_complaint'])"
   ]
  },
  {
   "attachments": {},
   "cell_type": "markdown",
   "metadata": {},
   "source": [
    "Je n'ai pas encore reussi a encoder les colonnes non numeriques"
   ]
  },
  {
   "attachments": {},
   "cell_type": "markdown",
   "metadata": {},
   "source": [
    "## Analyse et visualisation exploratoire des Données"
   ]
  },
  {
   "cell_type": "code",
   "execution_count": null,
   "metadata": {},
   "outputs": [],
   "source": []
  },
  {
   "attachments": {},
   "cell_type": "markdown",
   "metadata": {},
   "source": [
    "## Evaluation de plusieurs modèles avec les bonnes métriques"
   ]
  },
  {
   "cell_type": "code",
   "execution_count": 10,
   "metadata": {},
   "outputs": [],
   "source": [
    "df = normalize_numeric_columns(df)\n",
    "df = df.drop(columns=df.select_dtypes(exclude=['float64', 'int64']).columns)"
   ]
  },
  {
   "cell_type": "code",
   "execution_count": 11,
   "metadata": {},
   "outputs": [],
   "source": [
    "class PrevisionChurn:\n",
    "    def __init__(self, model):\n",
    "        self.model = model\n",
    "    \n",
    "    def train(self, X_train, y_train):\n",
    "        self.model.fit(X_train, y_train)\n",
    "    \n",
    "    def predict(self, X_test):\n",
    "        return self.model.predict(X_test)\n",
    "    \n",
    "    def evaluate(self, X_test, y_test):\n",
    "        y_pred = self.predict(X_test)\n",
    "        return accuracy_score(y_test, y_pred)"
   ]
  },
  {
   "cell_type": "code",
   "execution_count": 12,
   "metadata": {},
   "outputs": [
    {
     "name": "stdout",
     "output_type": "stream",
     "text": [
      "Logistic Regression Accuracy: 0.70\n",
      "SVM Accuracy: 0.78\n",
      "Random Forest Accuracy: 0.88\n",
      "Gradient Boosting Accuracy: 0.89\n",
      "KNN Accuracy: 0.64\n",
      "AdaBoost Accuracy: 0.88\n"
     ]
    }
   ],
   "source": [
    "X = df.drop(columns=['churn_risk_score'])\n",
    "y = df['churn_risk_score']\n",
    "\n",
    "X_train, X_test, y_train, y_test = train_test_split(X, y, test_size=0.2, random_state=42)\n",
    "\n",
    "models = {\n",
    "    'Logistic Regression': LogisticRegression(),\n",
    "    'SVM': SVC(kernel='linear'),\n",
    "    'Random Forest': RandomForestClassifier(),\n",
    "    'Gradient Boosting': GradientBoostingClassifier(),\n",
    "    'KNN': KNeighborsClassifier(n_neighbors=5),\n",
    "    'AdaBoost': AdaBoostClassifier(),\n",
    "}\n",
    "\n",
    "results = {}\n",
    "for model_name, model in models.items():\n",
    "    model.fit(X_train, y_train)\n",
    "    accuracy = model.score(X_test, y_test)\n",
    "    results[model_name] = accuracy\n",
    "\n",
    "for model_name, accuracy in results.items():\n",
    "    print(f\"{model_name} Accuracy: {accuracy:.2f}\")\n"
   ]
  },
  {
   "cell_type": "code",
   "execution_count": 13,
   "metadata": {},
   "outputs": [],
   "source": [
    "def features_importance(model,coeff_method=None):\n",
    "    if coeff_method == 'arbres':\n",
    "        feature_importances = model.feature_importances_\n",
    "    else:\n",
    "        feature_importances = model.coef_[0]\n",
    "    \n",
    "    feature_importance_df = pd.DataFrame({\n",
    "        'Feature': X.columns,\n",
    "        'Importance': feature_importances\n",
    "    }).sort_values(by='Importance', ascending=False)\n",
    "\n",
    "    return feature_importance_df"
   ]
  },
  {
   "cell_type": "code",
   "execution_count": 14,
   "metadata": {},
   "outputs": [],
   "source": [
    "feature_importance_df = features_importance(models['Random Forest'], 'arbres')"
   ]
  },
  {
   "attachments": {},
   "cell_type": "markdown",
   "metadata": {},
   "source": [
    "## Visualiser et interpreter les résultats"
   ]
  },
  {
   "cell_type": "code",
   "execution_count": 15,
   "metadata": {},
   "outputs": [
    {
     "data": {
      "image/png": "[encoded data removed]",
      "text/plain": [
       "<Figure size 600x300 with 1 Axes>"
      ]
     },
     "metadata": {},
     "output_type": "display_data"
    }
   ],
   "source": [
    "plt.figure(figsize=(6, 3))\n",
    "sns.barplot(x='Importance', y='Feature', data=feature_importance_df)\n",
    "plt.title('Feature Importances')\n",
    "plt.xlabel('Importance')\n",
    "plt.ylabel('Feature')\n",
    "plt.show()"
   ]
  }
 ],
 "metadata": {
  "kernelspec": {
   "display_name": "Python 3",
   "language": "python",
   "name": "python3"
  },
  "language_info": {
   "codemirror_mode": {
    "name": "ipython",
    "version": 3
   },
   "file_extension": ".py",
   "mimetype": "text/x-python",
   "name": "python",
   "nbconvert_exporter": "python",
   "pygments_lexer": "ipython3",
   "version": "3.8.10"
  },
  "orig_nbformat": 4
 },
 "nbformat": 4,
 "nbformat_minor": 2
}
